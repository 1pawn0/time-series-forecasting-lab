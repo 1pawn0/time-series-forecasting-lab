{
  "nbformat": 4,
  "nbformat_minor": 0,
  "metadata": {
    "colab": {
      "private_outputs": true,
      "provenance": [],
      "authorship_tag": "ABX9TyN7fXvdUZJ5+7hJ4on6FdRx",
      "include_colab_link": true
    },
    "kernelspec": {
      "name": "python3",
      "display_name": "Python 3"
    },
    "language_info": {
      "name": "python"
    }
  },
  "cells": [
    {
      "cell_type": "markdown",
      "metadata": {
        "id": "view-in-github",
        "colab_type": "text"
      },
      "source": [
        "<a href=\"https://colab.research.google.com/github/1pawn0/time-series-forecasting-lab/blob/main/preprocessing_the_data.ipynb\" target=\"_parent\"><img src=\"https://colab.research.google.com/assets/colab-badge.svg\" alt=\"Open In Colab\"/></a>"
      ]
    },
    {
      "cell_type": "code",
      "execution_count": null,
      "metadata": {
        "id": "DWyZ_VBRF0jy"
      },
      "outputs": [],
      "source": [
        "import numpy as np\n",
        "import polars as pl\n",
        "import plotly.express as px\n",
        "import plotly.graph_objects as go\n",
        "from datetime import datetime\n",
        "from sklearn.pipeline import Pipeline, make_pipeline\n",
        "from sklearn.model_selection import TimeSeriesSplit, train_test_split\n",
        "from sklearn.preprocessing import SplineTransformer, MinMaxScaler, RobustScaler, StandardScaler\n",
        "from statsmodels import tsa\n",
        "from urllib.request import urlretrieve\n",
        "from pathlib import Path\n",
        "from tqdm.notebook import tqdm\n"
      ]
    },
    {
      "cell_type": "markdown",
      "source": [
        "### Download the csv dataset"
      ],
      "metadata": {
        "id": "beyqjwTxLSrs"
      }
    },
    {
      "cell_type": "code",
      "source": [
        "from urllib.request import urlretrieve\n",
        "from pathlib import Path\n",
        "\n",
        "csv_url: str = \"https://www.cryptodatadownload.com/cdd/Gemini_BTCUSD_1h.csv\"\n",
        "data_dir: Path = Path(\"./data\")\n",
        "data_dir.mkdir(exist_ok=True, parents=True)\n",
        "csv_file: Path = data_dir / \"Gemini_BTCUSD_1h.csv\"\n",
        "\n",
        "if not csv_file.exists():\n",
        "    urlretrieve(csv_url, csv_file)\n",
        "    print(f\"CSV file downloaded to {csv_file}\")\n",
        "else:\n",
        "    print(f\"CSV file already exists at {csv_file}\")"
      ],
      "metadata": {
        "id": "Rul0SVm_IqT_"
      },
      "execution_count": null,
      "outputs": []
    },
    {
      "cell_type": "markdown",
      "source": [
        "### Read the csv file as a Polars dataframe"
      ],
      "metadata": {
        "id": "hQT8jgINQo5f"
      }
    },
    {
      "cell_type": "code",
      "source": [
        "import polars as pl\n",
        "\n",
        "# Define the schema of df\n",
        "df_schema: dict = {\n",
        "    \"date\": pl.Datetime(\"ms\"),\n",
        "    \"close\": pl.Float64,\n",
        "}\n",
        "# Define which columns to load from the CSV\n",
        "cols = list(df_schema.keys())\n",
        "# Read the CSV file\n",
        "df = (\n",
        "    pl.read_csv(csv_file, columns=cols, skip_lines=1, schema_overrides=df_schema)\n",
        "    .sort(\"date\")\n",
        "    .rename({\"close\": \"price\"})\n",
        ")\n",
        "# Fill the date gaps inside `df`\n",
        "full_date_range = pl.datetime_range(\n",
        "    start=df[\"date\"][0],\n",
        "    end=df[\"date\"][-1],\n",
        "    interval=\"1h\",\n",
        "    time_unit=\"ms\",\n",
        "    eager=True,\n",
        ").to_frame(name=\"date\")\n",
        "df = full_date_range.join(df, on=\"date\", how=\"left\").interpolate()\n",
        "# Filter the dataset to only include data after a specific start date\n",
        "df = df.filter(pl.col(\"date\") > datetime(2016, 10, 30))\n",
        "price_pct_changes_df = df.with_columns(\n",
        "    pl.col(\"price\").pct_change().alias(\"price_pct_change\")\n",
        ")[1:]\n",
        "price_pct_changes_df"
      ],
      "metadata": {
        "id": "q-Q5fmqFNhw2"
      },
      "execution_count": null,
      "outputs": []
    },
    {
      "cell_type": "markdown",
      "source": [
        "## Exploratory Data Analysis"
      ],
      "metadata": {
        "id": "qrZ9RHRsUXp-"
      }
    },
    {
      "cell_type": "code",
      "source": [
        "import plotly.express as px\n",
        "\n",
        "px.line(\n",
        "    df[1:],\n",
        "    x=\"date\",\n",
        "    y=\"price\",\n",
        "    log_y=True,\n",
        "    title=\"BTC/USD Price Over Time (Log Scale)\",\n",
        "    labels={\"date\": \"Date\", \"price\": \"Price (USD) - Log Scale\"},\n",
        ").show()\n",
        "\n",
        "px.line(\n",
        "    price_pct_changes_df,\n",
        "    x=\"date\",\n",
        "    y=\"price_pct_change\",\n",
        "    title=\"BTC/USD Price Percentage Change Over Time\",\n",
        "    labels={\"date\": \"Date\", \"price_pct_change\": \"Price Percentage Change\"},\n",
        ").show()\n",
        "\n",
        "px.violin(\n",
        "    price_pct_changes_df,\n",
        "    y=\"price_pct_change\",\n",
        "    box=True,\n",
        "    points=False,\n",
        "    title=\"BTC/USD Price Percentage Change Distribution\",\n",
        "    labels={\"price_pct_change\": \"Price Percentage Change\"},\n",
        ").show()\n",
        "\n",
        "px.histogram(\n",
        "    price_pct_changes_df,\n",
        "    x=\"price_pct_change\",\n",
        "    nbins=40,\n",
        "    marginal=\"box\",\n",
        "    log_y=True,\n",
        "    title=\"Histogram of Hourly Price Returns (BTC/USD)\",\n",
        "    labels={\"price_pct_change\": \"Hourly Percentage Change\"},\n",
        ").show()\n"
      ],
      "metadata": {
        "id": "aoTMd8ClUXIT"
      },
      "execution_count": null,
      "outputs": []
    },
    {
      "cell_type": "code",
      "source": [
        "from statsmodels.tsa.stattools import acf, pacf\n",
        "\n",
        "N_LAGS, ALPHA_VALUE = 40, 0.001\n",
        "acf_values, acf_conf_intervals, q_stat, p_values = acf(\n",
        "    x=price_pct_changes_df[\"price_pct_change\"],\n",
        "    adjusted=False,\n",
        "    nlags=N_LAGS,\n",
        "    qstat=True,\n",
        "    fft=False,\n",
        "    alpha=ALPHA_VALUE,\n",
        ")\n",
        "acf_values = acf_values[1:]\n",
        "acf_conf_intervals = acf_conf_intervals[1:]\n",
        "q_stat = q_stat[1:]\n",
        "p_values = p_values[1:]\n",
        "\n",
        "\n",
        "pacf_values, pacf_conf_intervals = pacf(\n",
        "    x=price_pct_changes_df[\"price_pct_change\"],\n",
        "    nlags=N_LAGS,\n",
        "    method=\"ols-inefficient\",\n",
        "    alpha=ALPHA_VALUE,\n",
        ")\n",
        "pacf_values = pacf_values[1:]\n",
        "pacf_conf_intervals = pacf_conf_intervals[1:]\n"
      ],
      "metadata": {
        "id": "0-b25Ul6ag0X"
      },
      "execution_count": null,
      "outputs": []
    },
    {
      "cell_type": "code",
      "source": [
        "from plotly.subplots import make_subplots\n",
        "import plotly.graph_objects as go\n",
        "\n",
        "# Create a figure\n",
        "fig = make_subplots(\n",
        "    rows=2,\n",
        "    cols=1,\n",
        "    subplot_titles=(\"Autocorrelation (ACF)\", \"Partial Autocorrelation (PACF)\"),\n",
        ")\n",
        "\n",
        "# Add ACF Plot to the First Row\n",
        "lags_acf = np.arange(1, len(acf_values) + 1)\n",
        "ci_upper_acf = acf_conf_intervals[:, 1]\n",
        "ci_lower_acf = acf_conf_intervals[:, 0]\n",
        "\n",
        "# Add ACF confidence interval region\n",
        "fig.add_trace(\n",
        "    go.Scatter(\n",
        "        x=np.concatenate([lags_acf, lags_acf[::-1]]),\n",
        "        y=np.concatenate([ci_upper_acf, ci_lower_acf[::-1]]),\n",
        "        fill=\"toself\",\n",
        "        fillcolor=\"RoyalBlue\",\n",
        "        opacity=0.2,\n",
        "        line=dict(color=\"rgba(255,255,255,0)\"),\n",
        "        name=\"ACF 99.9% CI\",\n",
        "        showlegend=True,\n",
        "    ),\n",
        "    row=1,\n",
        "    col=1,\n",
        ")\n",
        "\n",
        "# Add ACF bars\n",
        "fig.add_trace(go.Bar(x=lags_acf, y=acf_values, name=\"ACF\"), row=1, col=1)\n",
        "\n",
        "\n",
        "# Add PACF Plot to the Second Row\n",
        "lags_pacf = np.arange(1, len(pacf_values) + 1)\n",
        "ci_upper_pacf = pacf_conf_intervals[:, 1]\n",
        "ci_lower_pacf = pacf_conf_intervals[:, 0]\n",
        "\n",
        "# Add PACF confidence interval region\n",
        "fig.add_trace(\n",
        "    go.Scatter(\n",
        "        x=np.concatenate([lags_pacf, lags_pacf[::-1]]),\n",
        "        y=np.concatenate([ci_upper_pacf, ci_lower_pacf[::-1]]),\n",
        "        fill=\"toself\",\n",
        "        fillcolor=\"RoyalBlue\",\n",
        "        opacity=0.2,\n",
        "        line=dict(color=\"rgba(255,255,255,0)\"),\n",
        "        name=\"PACF 99.9% CI\",\n",
        "        showlegend=True,\n",
        "    ),\n",
        "    row=2,\n",
        "    col=1,\n",
        ")\n",
        "\n",
        "# Add PACF bars\n",
        "fig.add_trace(go.Bar(x=lags_pacf, y=pacf_values, name=\"PACF\"), row=2, col=1)\n",
        "\n",
        "\n",
        "fig.update_layout(\n",
        "    title_text=\"ACF and PACF of Price Returns\",\n",
        "    showlegend=False,\n",
        ")\n",
        "\n",
        "fig.update_xaxes(title_text=\"Lag\", row=2, col=1)\n",
        "fig.update_yaxes(title_text=\"Correlation\", row=1, col=1)\n",
        "fig.update_yaxes(title_text=\"Correlation\", row=2, col=1)\n",
        "\n",
        "fig.show()\n"
      ],
      "metadata": {
        "id": "vPF0lIkSxbL3"
      },
      "execution_count": null,
      "outputs": []
    },
    {
      "cell_type": "markdown",
      "source": [
        "## Preprocessing"
      ],
      "metadata": {
        "id": "7OMVXAOITqLb"
      }
    },
    {
      "cell_type": "code",
      "source": [],
      "metadata": {
        "id": "RGIaeqMCF7jf"
      },
      "execution_count": null,
      "outputs": []
    }
  ]
}